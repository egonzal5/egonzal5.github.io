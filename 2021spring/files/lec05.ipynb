{
 "cells": [
  {
   "cell_type": "code",
   "execution_count": null,
   "id": "excited-carol",
   "metadata": {},
   "outputs": [],
   "source": [
    "import requests\n",
    "import json"
   ]
  },
  {
   "cell_type": "code",
   "execution_count": null,
   "id": "freelance-symphony",
   "metadata": {},
   "outputs": [],
   "source": [
    "with open('reddit-pass', 'r') as file:\n",
    "    psswd = file.read().replace('\\n','')"
   ]
  },
  {
   "cell_type": "code",
   "execution_count": null,
   "id": "stunning-calculator",
   "metadata": {},
   "outputs": [],
   "source": [
    "auth = requests.auth.HTTPBasicAuth(<ID GIVEN BY REDDIT>, <SECRET GIVEN BY REDDIT>)"
   ]
  },
  {
   "cell_type": "code",
   "execution_count": null,
   "id": "acknowledged-canvas",
   "metadata": {},
   "outputs": [],
   "source": [
    "data = {'grant_type': 'password',\n",
    "        'username':    <USERNAME>,\n",
    "        'password':    <PASSWORD> }"
   ]
  },
  {
   "cell_type": "code",
   "execution_count": null,
   "id": "overall-reality",
   "metadata": {},
   "outputs": [],
   "source": [
    "headers = {'User-Agent': 'cmsc320/1.0'}"
   ]
  },
  {
   "cell_type": "code",
   "execution_count": null,
   "id": "advisory-password",
   "metadata": {},
   "outputs": [],
   "source": [
    "r = requests.post('https://www.reddit.com/api/v1/access_token',\n",
    "                  auth=auth, data=data, headers=headers)"
   ]
  },
  {
   "cell_type": "code",
   "execution_count": null,
   "id": "thermal-valve",
   "metadata": {},
   "outputs": [],
   "source": [
    "REDDIT_TOKEN = r.json()['access_token']"
   ]
  },
  {
   "cell_type": "code",
   "execution_count": null,
   "id": "genuine-economy",
   "metadata": {},
   "outputs": [],
   "source": [
    "REDDIT_TOKEN"
   ]
  },
  {
   "cell_type": "code",
   "execution_count": null,
   "id": "lonely-trader",
   "metadata": {},
   "outputs": [],
   "source": [
    "headers = {**headers, **{'Authorization':f\"bearer {REDDIT_TOKEN}\"}}"
   ]
  },
  {
   "cell_type": "code",
   "execution_count": null,
   "id": "given-circular",
   "metadata": {},
   "outputs": [],
   "source": [
    "{**headers, **{'Authorization':f\"bearer {REDDIT_TOKEN}\"}}"
   ]
  },
  {
   "cell_type": "code",
   "execution_count": null,
   "id": "breeding-galaxy",
   "metadata": {},
   "outputs": [],
   "source": [
    "me = requests.get('https://oauth.reddit.com/api/v1/me', headers=headers)"
   ]
  },
  {
   "cell_type": "code",
   "execution_count": null,
   "id": "printable-petersburg",
   "metadata": {},
   "outputs": [],
   "source": [
    "print(me.json())"
   ]
  },
  {
   "cell_type": "code",
   "execution_count": null,
   "id": "postal-undergraduate",
   "metadata": {},
   "outputs": [],
   "source": [
    "shorties     = requests.get(\"https://oauth.reddit.com/r/ShortyStories/top.json\", headers=headers)\n",
    "shortiesGOAT = requests.get(\"https://oauth.reddit.com/r/ShortyStories/top.json?limit=25&t=all\", headers=headers)"
   ]
  },
  {
   "cell_type": "code",
   "execution_count": null,
   "id": "described-healing",
   "metadata": {},
   "outputs": [],
   "source": [
    "print(shorties.json())"
   ]
  },
  {
   "cell_type": "code",
   "execution_count": null,
   "id": "mechanical-physics",
   "metadata": {},
   "outputs": [],
   "source": [
    "all_posts = shorties.json()['data']['children']\n",
    "\n",
    "for post in all_posts:\n",
    "    print(\"# \" + post['data']['title'])"
   ]
  },
  {
   "cell_type": "code",
   "execution_count": null,
   "id": "specific-picking",
   "metadata": {},
   "outputs": [],
   "source": [
    "all_posts[42]"
   ]
  },
  {
   "cell_type": "code",
   "execution_count": null,
   "id": "broke-gospel",
   "metadata": {},
   "outputs": [],
   "source": []
  },
  {
   "cell_type": "code",
   "execution_count": null,
   "id": "perfect-satisfaction",
   "metadata": {},
   "outputs": [],
   "source": []
  }
 ],
 "metadata": {
  "kernelspec": {
   "display_name": "Python 3",
   "language": "python",
   "name": "python3"
  },
  "language_info": {
   "codemirror_mode": {
    "name": "ipython",
    "version": 3
   },
   "file_extension": ".py",
   "mimetype": "text/x-python",
   "name": "python",
   "nbconvert_exporter": "python",
   "pygments_lexer": "ipython3",
   "version": "3.8.6"
  }
 },
 "nbformat": 4,
 "nbformat_minor": 5
}
