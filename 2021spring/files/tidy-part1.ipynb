{
 "cells": [
  {
   "cell_type": "code",
   "execution_count": null,
   "id": "nasty-triumph",
   "metadata": {},
   "outputs": [],
   "source": [
    "import pandas as pd\n",
    "import datetime\n",
    "from os import listdir\n",
    "from os.path import isfile, join"
   ]
  },
  {
   "cell_type": "markdown",
   "id": "signed-portable",
   "metadata": {},
   "source": [
    "Introduction\n",
    "===\n",
    "\n",
    "Let's create a table that we might use in a report, recording the heights of our TV-highschool sports teams:\n",
    "\n",
    "`columns` let's give labels to our data as we create the DataFrame"
   ]
  },
  {
   "cell_type": "code",
   "execution_count": null,
   "id": "caroline-communist",
   "metadata": {},
   "outputs": [],
   "source": [
    "df = pd.DataFrame([[\"Basketball\", 9,15],[\"Soccer\",12,12],[\"Horse Racing\", 20,0]],\n",
    "                  columns=[\"Sport\",\"<6ft\",\">6ft\"])"
   ]
  },
  {
   "cell_type": "code",
   "execution_count": null,
   "id": "interstate-power",
   "metadata": {},
   "outputs": [],
   "source": [
    "df"
   ]
  },
  {
   "cell_type": "markdown",
   "id": "alone-committee",
   "metadata": {},
   "source": [
    "Melt\n",
    "===\n",
    "\n",
    "The DataFrame above is nice, for _reading_ but not great for _processing_. Ideally we'd want each row to represent a single 'data point', but currently it represents _two_ data points:\n",
    "\n",
    " 1. The number of people shorter than 6ft on a team\n",
    " 2. The number of peole taller than 6ft on a team\n",
    " \n",
    "Let's _melt_ it.\n",
    "\n",
    "\n",
    "Unpivot\n",
    "---\n",
    "\n",
    "'melting' is really \"unpivoting\", but that  may not help much in understanding what's going on.\n",
    "\n",
    "Main idea: Take what was currently a column, and make it a _value_ in a new column.\n",
    "\n",
    "In our case we want to take the column '<6ft' and make that a value, in a new column: 'height'.\n",
    "\n",
    "'>6ft' also becomes a value in this column.\n",
    "\n",
    "\n",
    "What about the old values?\n",
    "---\n",
    "\n",
    "The values that used to be in the columns, now become values in an additional column.\n",
    "\n",
    "Let's look at our table again:"
   ]
  },
  {
   "cell_type": "code",
   "execution_count": null,
   "id": "balanced-honey",
   "metadata": {},
   "outputs": [],
   "source": [
    "df"
   ]
  },
  {
   "cell_type": "markdown",
   "id": "suspected-coordinate",
   "metadata": {},
   "source": [
    "Problem\n",
    "===\n",
    "\n",
    "How do we determine which columns stay and which get 'melted' together?\n",
    "\n",
    "Solution\n",
    "===\n",
    "\n",
    "We tell pandas which column gets to stay, the name of the two new columns:\n",
    "\n",
    " 1. The new column for what used to be the column names: `var_name`\n",
    " 2. The new column for what used to be the column values: `value_name`"
   ]
  },
  {
   "cell_type": "code",
   "execution_count": null,
   "id": "invalid-spine",
   "metadata": {},
   "outputs": [],
   "source": [
    "melted = pd.melt(df, id_vars=[\"Sport\"], var_name=\"height\", value_name=\"number of members\")\n",
    "melted"
   ]
  },
  {
   "cell_type": "code",
   "execution_count": null,
   "id": "frank-elevation",
   "metadata": {},
   "outputs": [],
   "source": [
    "melted = melted.sort_values(by=[\"Sport\"])"
   ]
  },
  {
   "cell_type": "code",
   "execution_count": null,
   "id": "basic-groove",
   "metadata": {},
   "outputs": [],
   "source": [
    "melted"
   ]
  },
  {
   "cell_type": "code",
   "execution_count": null,
   "id": "wound-people",
   "metadata": {},
   "outputs": [],
   "source": []
  }
 ],
 "metadata": {
  "kernelspec": {
   "display_name": "Python 3",
   "language": "python",
   "name": "python3"
  },
  "language_info": {
   "codemirror_mode": {
    "name": "ipython",
    "version": 3
   },
   "file_extension": ".py",
   "mimetype": "text/x-python",
   "name": "python",
   "nbconvert_exporter": "python",
   "pygments_lexer": "ipython3",
   "version": "3.8.6"
  }
 },
 "nbformat": 4,
 "nbformat_minor": 5
}
