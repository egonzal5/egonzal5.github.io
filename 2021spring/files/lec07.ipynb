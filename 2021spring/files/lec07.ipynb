{
 "cells": [
  {
   "cell_type": "code",
   "execution_count": null,
   "id": "computational-programmer",
   "metadata": {},
   "outputs": [],
   "source": [
    "import pandas as pd\n",
    "import numpy as np"
   ]
  },
  {
   "cell_type": "code",
   "execution_count": null,
   "id": "personalized-radical",
   "metadata": {},
   "outputs": [],
   "source": [
    "obj = pd.Series(['blue', 'purple', 'yellow'], index=[0, 2, 4])"
   ]
  },
  {
   "cell_type": "code",
   "execution_count": null,
   "id": "blond-wisconsin",
   "metadata": {},
   "outputs": [],
   "source": [
    "obj\n",
    "\n",
    "# A | B | C\n",
    "# -----------\n",
    "# Y | .. | ..\n",
    "#   | .. | ..\n",
    "# Z | .. | .."
   ]
  },
  {
   "cell_type": "code",
   "execution_count": null,
   "id": "sacred-corps",
   "metadata": {},
   "outputs": [],
   "source": [
    "obj.reindex(range(6), method='ffill') # there are many ways to 'fill', see the docs!"
   ]
  },
  {
   "cell_type": "code",
   "execution_count": null,
   "id": "arbitrary-gates",
   "metadata": {},
   "outputs": [],
   "source": [
    "frame = pd.DataFrame(np.random.randn(5,3), columns=['A','B','C'], index=['VA', 'WV', 'MD', 'PA', 'DE'])"
   ]
  },
  {
   "cell_type": "code",
   "execution_count": null,
   "id": "hollywood-crest",
   "metadata": {},
   "outputs": [],
   "source": [
    "frame"
   ]
  },
  {
   "cell_type": "code",
   "execution_count": null,
   "id": "pointed-genetics",
   "metadata": {},
   "outputs": [],
   "source": [
    "f = lambda x: x.max() - x.min() # works on any `f` that has a max and min method"
   ]
  },
  {
   "cell_type": "code",
   "execution_count": null,
   "id": "infinite-covering",
   "metadata": {},
   "outputs": [],
   "source": [
    "frame.apply(f)"
   ]
  },
  {
   "cell_type": "code",
   "execution_count": null,
   "id": "indirect-editing",
   "metadata": {},
   "outputs": [],
   "source": [
    "frame.apply(f, axis=1)"
   ]
  },
  {
   "cell_type": "code",
   "execution_count": null,
   "id": "outer-mills",
   "metadata": {},
   "outputs": [],
   "source": [
    "frame.sort_index()"
   ]
  },
  {
   "cell_type": "code",
   "execution_count": null,
   "id": "norwegian-gazette",
   "metadata": {},
   "outputs": [],
   "source": [
    "frame.count()"
   ]
  },
  {
   "cell_type": "markdown",
   "id": "broad-script",
   "metadata": {},
   "source": [
    "Introduction\n",
    "==========\n",
    "\n",
    "You can also write markdown in your Notebook!\n",
    "\n",
    "How\n",
    "---\n",
    "\n",
    "Go to Cell -> Cell Type -> Markdown\n",
    "\n",
    "Example formatting\n",
    "---\n",
    "\n",
    "This is `code`\n",
    "\n",
    "> This is a quote\n",
    "\n",
    " * this is a bullet list\n",
    " * another element\n",
    " \n",
    " \n",
    " 1. This is a numbered list\n",
    " 2. Yep, still is\n",
    " \n",
    "```{c}\n",
    "int main() {\n",
    "  printf(\"This is C code\\n\");\n",
    "  return 0;\n",
    "}\n",
    "```"
   ]
  }
 ],
 "metadata": {
  "kernelspec": {
   "display_name": "Python 3",
   "language": "python",
   "name": "python3"
  },
  "language_info": {
   "codemirror_mode": {
    "name": "ipython",
    "version": 3
   },
   "file_extension": ".py",
   "mimetype": "text/x-python",
   "name": "python",
   "nbconvert_exporter": "python",
   "pygments_lexer": "ipython3",
   "version": "3.8.6"
  }
 },
 "nbformat": 4,
 "nbformat_minor": 5
}
