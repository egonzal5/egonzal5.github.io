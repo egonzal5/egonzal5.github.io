{
 "cells": [
  {
   "cell_type": "code",
   "execution_count": null,
   "id": "tribal-banking",
   "metadata": {},
   "outputs": [],
   "source": [
    "# Very common to import numpy as `np`\n",
    "import numpy as np"
   ]
  },
  {
   "cell_type": "code",
   "execution_count": null,
   "id": "raised-plenty",
   "metadata": {},
   "outputs": [],
   "source": [
    "x = np.int32(-1.9)"
   ]
  },
  {
   "cell_type": "code",
   "execution_count": null,
   "id": "whole-meeting",
   "metadata": {},
   "outputs": [],
   "source": [
    "x"
   ]
  },
  {
   "cell_type": "code",
   "execution_count": null,
   "id": "vertical-culture",
   "metadata": {},
   "outputs": [],
   "source": [
    "y = np.int_(1.5)"
   ]
  },
  {
   "cell_type": "code",
   "execution_count": null,
   "id": "public-chest",
   "metadata": {},
   "outputs": [],
   "source": [
    "y"
   ]
  },
  {
   "cell_type": "code",
   "execution_count": null,
   "id": "spatial-company",
   "metadata": {},
   "outputs": [],
   "source": [
    "y.dtype"
   ]
  },
  {
   "cell_type": "code",
   "execution_count": null,
   "id": "equivalent-assumption",
   "metadata": {},
   "outputs": [],
   "source": [
    "np.int_([1,2,3,4.5])"
   ]
  },
  {
   "cell_type": "code",
   "execution_count": null,
   "id": "retired-neutral",
   "metadata": {},
   "outputs": [],
   "source": [
    "z = np.arange(3, dtype=np.uint16)"
   ]
  },
  {
   "cell_type": "code",
   "execution_count": null,
   "id": "continental-fleet",
   "metadata": {},
   "outputs": [],
   "source": [
    "zed = np.arange(10)"
   ]
  },
  {
   "cell_type": "code",
   "execution_count": null,
   "id": "canadian-bread",
   "metadata": {},
   "outputs": [],
   "source": [
    "zed.dtype"
   ]
  },
  {
   "cell_type": "code",
   "execution_count": null,
   "id": "isolated-reservoir",
   "metadata": {},
   "outputs": [],
   "source": [
    "z"
   ]
  },
  {
   "cell_type": "code",
   "execution_count": null,
   "id": "accredited-poetry",
   "metadata": {},
   "outputs": [],
   "source": [
    "z.dtype"
   ]
  },
  {
   "cell_type": "code",
   "execution_count": null,
   "id": "comprehensive-victor",
   "metadata": {},
   "outputs": [],
   "source": [
    "# useful array creation functions:\n",
    "ones = np.ones(10, dtype=np.int32)\n",
    "zeros = np.zeros(10)"
   ]
  },
  {
   "cell_type": "code",
   "execution_count": null,
   "id": "apparent-python",
   "metadata": {},
   "outputs": [],
   "source": [
    "ones"
   ]
  },
  {
   "cell_type": "code",
   "execution_count": null,
   "id": "environmental-pitch",
   "metadata": {},
   "outputs": [],
   "source": [
    "ones.dtype"
   ]
  },
  {
   "cell_type": "code",
   "execution_count": null,
   "id": "patent-groove",
   "metadata": {},
   "outputs": [],
   "source": [
    "zeros"
   ]
  },
  {
   "cell_type": "code",
   "execution_count": null,
   "id": "satellite-shakespeare",
   "metadata": {},
   "outputs": [],
   "source": [
    "# multi-dimensional arrays:\n",
    "np.array([[1,2],[0,0],[3,2]])"
   ]
  },
  {
   "cell_type": "code",
   "execution_count": null,
   "id": "educated-queue",
   "metadata": {},
   "outputs": [],
   "source": [
    "# multi-dimensional arrays:\n",
    "np.zeros((4,5,2), dtype=np.int8)"
   ]
  },
  {
   "cell_type": "code",
   "execution_count": null,
   "id": "legislative-afghanistan",
   "metadata": {},
   "outputs": [],
   "source": [
    "# other ways to create arrays:\n",
    "lin = np.linspace(1.0,10.0,19)\n",
    "ran = np.random.random((3,4))"
   ]
  },
  {
   "cell_type": "code",
   "execution_count": null,
   "id": "substantial-reason",
   "metadata": {},
   "outputs": [],
   "source": [
    "lin"
   ]
  },
  {
   "cell_type": "code",
   "execution_count": null,
   "id": "careful-statement",
   "metadata": {},
   "outputs": [],
   "source": [
    "ran"
   ]
  },
  {
   "cell_type": "code",
   "execution_count": null,
   "id": "inner-poster",
   "metadata": {},
   "outputs": [],
   "source": [
    "print(ran)"
   ]
  },
  {
   "cell_type": "code",
   "execution_count": null,
   "id": "nearby-promise",
   "metadata": {},
   "outputs": [],
   "source": [
    "ran[2]"
   ]
  },
  {
   "cell_type": "code",
   "execution_count": null,
   "id": "comfortable-mount",
   "metadata": {},
   "outputs": [],
   "source": [
    "ran[2][3] == ran[2,3]"
   ]
  },
  {
   "cell_type": "code",
   "execution_count": null,
   "id": "senior-carolina",
   "metadata": {},
   "outputs": [],
   "source": [
    "# sub-arrays\n",
    "x = np.arange(10)\n",
    "x.shape = (2,5)\n",
    "x[0]"
   ]
  },
  {
   "cell_type": "code",
   "execution_count": null,
   "id": "preliminary-crowd",
   "metadata": {},
   "outputs": [],
   "source": [
    "x = np.arange(10)"
   ]
  },
  {
   "cell_type": "code",
   "execution_count": null,
   "id": "alpine-indie",
   "metadata": {},
   "outputs": [],
   "source": [
    "x"
   ]
  },
  {
   "cell_type": "code",
   "execution_count": null,
   "id": "warming-franchise",
   "metadata": {},
   "outputs": [],
   "source": [
    "x.reshape((5,2))"
   ]
  },
  {
   "cell_type": "code",
   "execution_count": null,
   "id": "north-strap",
   "metadata": {},
   "outputs": [],
   "source": [
    "x"
   ]
  },
  {
   "cell_type": "code",
   "execution_count": null,
   "id": "corporate-compound",
   "metadata": {},
   "outputs": [],
   "source": [
    "x.shape"
   ]
  },
  {
   "cell_type": "code",
   "execution_count": null,
   "id": "classified-saturday",
   "metadata": {},
   "outputs": [],
   "source": [
    "x.reshape((2,5))"
   ]
  },
  {
   "cell_type": "code",
   "execution_count": null,
   "id": "former-senator",
   "metadata": {},
   "outputs": [],
   "source": [
    "y = np.arange(10)"
   ]
  },
  {
   "cell_type": "code",
   "execution_count": null,
   "id": "bright-injection",
   "metadata": {},
   "outputs": [],
   "source": [
    "y"
   ]
  },
  {
   "cell_type": "code",
   "execution_count": null,
   "id": "dependent-helicopter",
   "metadata": {},
   "outputs": [],
   "source": [
    "y[1] = 10"
   ]
  },
  {
   "cell_type": "code",
   "execution_count": null,
   "id": "loaded-slave",
   "metadata": {},
   "outputs": [],
   "source": [
    "y"
   ]
  },
  {
   "cell_type": "code",
   "execution_count": null,
   "id": "vocational-guatemala",
   "metadata": {},
   "outputs": [],
   "source": [
    "x"
   ]
  },
  {
   "cell_type": "code",
   "execution_count": null,
   "id": "israeli-wrong",
   "metadata": {},
   "outputs": [],
   "source": [
    "x.shape = (2,5)"
   ]
  },
  {
   "cell_type": "code",
   "execution_count": null,
   "id": "meaning-heath",
   "metadata": {},
   "outputs": [],
   "source": [
    "x"
   ]
  },
  {
   "cell_type": "code",
   "execution_count": null,
   "id": "universal-diamond",
   "metadata": {},
   "outputs": [],
   "source": [
    "x.shape"
   ]
  },
  {
   "cell_type": "code",
   "execution_count": null,
   "id": "protecting-newspaper",
   "metadata": {},
   "outputs": [],
   "source": [
    "z = x.reshape(1,10)"
   ]
  },
  {
   "cell_type": "code",
   "execution_count": null,
   "id": "tracked-brunei",
   "metadata": {},
   "outputs": [],
   "source": [
    "z.shape"
   ]
  },
  {
   "cell_type": "code",
   "execution_count": null,
   "id": "offshore-retirement",
   "metadata": {},
   "outputs": [],
   "source": [
    "x.shape"
   ]
  },
  {
   "cell_type": "code",
   "execution_count": null,
   "id": "frozen-parcel",
   "metadata": {},
   "outputs": [],
   "source": [
    "umd = np.arange(10)"
   ]
  },
  {
   "cell_type": "code",
   "execution_count": null,
   "id": "material-village",
   "metadata": {},
   "outputs": [],
   "source": [
    "cmsc = umd.reshape((2,5))"
   ]
  },
  {
   "cell_type": "code",
   "execution_count": null,
   "id": "norman-springfield",
   "metadata": {},
   "outputs": [],
   "source": [
    "cmsc == umd"
   ]
  },
  {
   "cell_type": "code",
   "execution_count": null,
   "id": "underlying-robertson",
   "metadata": {},
   "outputs": [],
   "source": [
    "umd.shape"
   ]
  },
  {
   "cell_type": "code",
   "execution_count": null,
   "id": "specified-brass",
   "metadata": {},
   "outputs": [],
   "source": [
    "cmsc.shape"
   ]
  },
  {
   "cell_type": "code",
   "execution_count": null,
   "id": "earned-skirt",
   "metadata": {},
   "outputs": [],
   "source": [
    "umd"
   ]
  },
  {
   "cell_type": "code",
   "execution_count": null,
   "id": "ceramic-blair",
   "metadata": {},
   "outputs": [],
   "source": [
    "umd[1] = 20"
   ]
  },
  {
   "cell_type": "code",
   "execution_count": null,
   "id": "residential-equality",
   "metadata": {},
   "outputs": [],
   "source": [
    "print(umd)"
   ]
  },
  {
   "cell_type": "code",
   "execution_count": null,
   "id": "generous-phrase",
   "metadata": {},
   "outputs": [],
   "source": [
    "cmsc"
   ]
  },
  {
   "cell_type": "code",
   "execution_count": null,
   "id": "instant-berry",
   "metadata": {},
   "outputs": [],
   "source": [
    "cmsc.shape"
   ]
  },
  {
   "cell_type": "code",
   "execution_count": null,
   "id": "respected-roberts",
   "metadata": {},
   "outputs": [],
   "source": [
    "umd.shape"
   ]
  },
  {
   "cell_type": "code",
   "execution_count": null,
   "id": "southeast-dodge",
   "metadata": {},
   "outputs": [],
   "source": [
    "umd.shape = (2,3)"
   ]
  },
  {
   "cell_type": "code",
   "execution_count": null,
   "id": "frank-birthday",
   "metadata": {},
   "outputs": [],
   "source": [
    "test = np.arange(7)"
   ]
  },
  {
   "cell_type": "code",
   "execution_count": null,
   "id": "legendary-truck",
   "metadata": {},
   "outputs": [],
   "source": [
    "test"
   ]
  },
  {
   "cell_type": "code",
   "execution_count": null,
   "id": "interpreted-bowling",
   "metadata": {},
   "outputs": [],
   "source": [
    "test.respe"
   ]
  }
 ],
 "metadata": {
  "kernelspec": {
   "display_name": "Python 3",
   "language": "python",
   "name": "python3"
  },
  "language_info": {
   "codemirror_mode": {
    "name": "ipython",
    "version": 3
   },
   "file_extension": ".py",
   "mimetype": "text/x-python",
   "name": "python",
   "nbconvert_exporter": "python",
   "pygments_lexer": "ipython3",
   "version": "3.8.6"
  }
 },
 "nbformat": 4,
 "nbformat_minor": 5
}
