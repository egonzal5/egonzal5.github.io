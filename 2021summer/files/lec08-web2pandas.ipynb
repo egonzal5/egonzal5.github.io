{
 "cells": [
  {
   "cell_type": "code",
   "execution_count": null,
   "id": "medical-petroleum",
   "metadata": {},
   "outputs": [],
   "source": [
    "# Getting a simple table from the web\n",
    "import requests as req\n",
    "from bs4 import BeautifulSoup\n",
    "import pandas as pd"
   ]
  },
  {
   "cell_type": "code",
   "execution_count": null,
   "id": "mature-implement",
   "metadata": {},
   "outputs": [],
   "source": [
    "web = req.get('http://cmsc320.github.io')"
   ]
  },
  {
   "cell_type": "code",
   "execution_count": null,
   "id": "played-biography",
   "metadata": {},
   "outputs": [],
   "source": [
    "soup = BeautifulSoup(web.content, 'html.parser')"
   ]
  },
  {
   "cell_type": "code",
   "execution_count": null,
   "id": "protected-right",
   "metadata": {},
   "outputs": [],
   "source": [
    "all_frames = pd.read_html(web.text, flavor='bs4')"
   ]
  },
  {
   "cell_type": "code",
   "execution_count": null,
   "id": "painful-divide",
   "metadata": {},
   "outputs": [],
   "source": [
    "all_frames[1]"
   ]
  },
  {
   "cell_type": "code",
   "execution_count": null,
   "id": "lovely-cache",
   "metadata": {},
   "outputs": [],
   "source": [
    " "
   ]
  }
 ],
 "metadata": {
  "kernelspec": {
   "display_name": "Python 3",
   "language": "python",
   "name": "python3"
  },
  "language_info": {
   "codemirror_mode": {
    "name": "ipython",
    "version": 3
   },
   "file_extension": ".py",
   "mimetype": "text/x-python",
   "name": "python",
   "nbconvert_exporter": "python",
   "pygments_lexer": "ipython3",
   "version": "3.8.6"
  }
 },
 "nbformat": 4,
 "nbformat_minor": 5
}
