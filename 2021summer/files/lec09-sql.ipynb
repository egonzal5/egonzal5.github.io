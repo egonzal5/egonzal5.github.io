{
 "cells": [
  {
   "cell_type": "code",
   "execution_count": 1,
   "id": "purple-fields",
   "metadata": {},
   "outputs": [],
   "source": [
    "import sqlite3 as sql"
   ]
  },
  {
   "cell_type": "code",
   "execution_count": 2,
   "id": "corporate-noise",
   "metadata": {},
   "outputs": [],
   "source": [
    "# This is our connection to the database itself (think client <-> server)\n",
    "db_conn = sql.connect(\"test.db\")"
   ]
  },
  {
   "cell_type": "code",
   "execution_count": 3,
   "id": "chubby-french",
   "metadata": {},
   "outputs": [],
   "source": [
    "# a 'cursor' lets you keep track of intermediate results/tables. Can be useful, but there are some drawbacks!\n",
    "cursor = db_conn.cursor()"
   ]
  },
  {
   "cell_type": "code",
   "execution_count": 4,
   "id": "driving-objective",
   "metadata": {},
   "outputs": [
    {
     "data": {
      "text/plain": [
       "<sqlite3.Cursor at 0x7f400c0ad960>"
      ]
     },
     "execution_count": 4,
     "metadata": {},
     "output_type": "execute_result"
    }
   ],
   "source": [
    "# As mentioned last lecture, you have to think of the schema up front:\n",
    "\n",
    "cursor.execute(\"\"\"\n",
    "CREATE TABLE pets (\n",
    "    id INTEGER PRIMARY KEY,\n",
    "    name TEXT,\n",
    "    age REAL\n",
    ")\"\"\")\n",
    "\n",
    "#Capitalization doesn't matter, but this is idiomatic"
   ]
  },
  {
   "cell_type": "code",
   "execution_count": 5,
   "id": "adverse-country",
   "metadata": {},
   "outputs": [],
   "source": [
    "my_pets = [(1, 'Sofie', 5.9),\n",
    "           (2, 'Pippin', 3.2),\n",
    "           (3, 'Billi', 18.2),\n",
    "           (4, 'Neko', 12.1),\n",
    "           (5, 'Koshka', 10),\n",
    "           (6, 'Kisu', 10)]"
   ]
  },
  {
   "cell_type": "code",
   "execution_count": 6,
   "id": "sealed-petite",
   "metadata": {},
   "outputs": [],
   "source": [
    "# If your data is in a python structure, you can iterate and insert\n",
    "# (or serialize to a file and import)\n",
    "\n",
    "for p in my_pets:\n",
    "    cursor.execute(f\"INSERT INTO pets VALUES {p}\")"
   ]
  },
  {
   "cell_type": "code",
   "execution_count": 7,
   "id": "fixed-resident",
   "metadata": {},
   "outputs": [],
   "source": [
    "# When you change the database, you have to 'commit' when you've reached a desired state\n",
    "db_conn.commit()"
   ]
  },
  {
   "cell_type": "code",
   "execution_count": 8,
   "id": "desperate-account",
   "metadata": {},
   "outputs": [
    {
     "data": {
      "text/plain": [
       "<sqlite3.Cursor at 0x7f400c0ad960>"
      ]
     },
     "execution_count": 8,
     "metadata": {},
     "output_type": "execute_result"
    }
   ],
   "source": [
    "# you can execute arbitrary SQL:\n",
    "cursor.execute(\"SELECT * FROM pets\")"
   ]
  },
  {
   "cell_type": "code",
   "execution_count": 9,
   "id": "lined-small",
   "metadata": {},
   "outputs": [],
   "source": [
    "# Fetch all 'flushes' the results of our query (pointed to by our cursor)\n",
    "rows = cursor.fetchall()"
   ]
  },
  {
   "cell_type": "code",
   "execution_count": 12,
   "id": "level-furniture",
   "metadata": {},
   "outputs": [
    {
     "data": {
      "text/plain": [
       "(5, 'Koshka', 10.0)"
      ]
     },
     "execution_count": 12,
     "metadata": {},
     "output_type": "execute_result"
    }
   ],
   "source": [
    "rows[4]"
   ]
  },
  {
   "cell_type": "code",
   "execution_count": 13,
   "id": "colonial-element",
   "metadata": {},
   "outputs": [],
   "source": [
    "# The previous fetchall() already flushed all the intermediate results\n",
    "rows_empty = cursor.fetchall()"
   ]
  },
  {
   "cell_type": "code",
   "execution_count": 17,
   "id": "eight-calculator",
   "metadata": {},
   "outputs": [
    {
     "ename": "IndexError",
     "evalue": "list index out of range",
     "output_type": "error",
     "traceback": [
      "\u001b[0;31m---------------------------------------------------------------------------\u001b[0m",
      "\u001b[0;31mIndexError\u001b[0m                                Traceback (most recent call last)",
      "\u001b[0;32m<ipython-input-17-65cb7c8e4072>\u001b[0m in \u001b[0;36m<module>\u001b[0;34m\u001b[0m\n\u001b[0;32m----> 1\u001b[0;31m \u001b[0mrows_empty\u001b[0m\u001b[0;34m[\u001b[0m\u001b[0;36m4\u001b[0m\u001b[0;34m]\u001b[0m\u001b[0;34m\u001b[0m\u001b[0;34m\u001b[0m\u001b[0m\n\u001b[0m",
      "\u001b[0;31mIndexError\u001b[0m: list index out of range"
     ]
    }
   ],
   "source": [
    "rows_empty[4]"
   ]
  },
  {
   "cell_type": "code",
   "execution_count": 18,
   "id": "bigger-boutique",
   "metadata": {},
   "outputs": [
    {
     "data": {
      "text/plain": [
       "<sqlite3.Cursor at 0x7f400c0ad960>"
      ]
     },
     "execution_count": 18,
     "metadata": {},
     "output_type": "execute_result"
    }
   ],
   "source": [
    "cursor.execute(\"SELECT * FROM pets WHERE age < 5\")"
   ]
  },
  {
   "cell_type": "code",
   "execution_count": 19,
   "id": "challenging-prompt",
   "metadata": {},
   "outputs": [
    {
     "name": "stdout",
     "output_type": "stream",
     "text": [
      "(2, 'Pippin', 3.2)\n"
     ]
    }
   ],
   "source": [
    "young_rows = cursor.fetchall()\n",
    "for r in young_rows:\n",
    "    print(r)"
   ]
  },
  {
   "cell_type": "code",
   "execution_count": 20,
   "id": "identified-thickness",
   "metadata": {},
   "outputs": [
    {
     "name": "stdout",
     "output_type": "stream",
     "text": [
      "(2, 'Pippin', 3.2)\n"
     ]
    }
   ],
   "source": [
    "for r in cursor.execute(\"SELECT * FROM pets WHERE age < 5\"):\n",
    "    print(r)"
   ]
  },
  {
   "cell_type": "code",
   "execution_count": 21,
   "id": "spanish-heating",
   "metadata": {},
   "outputs": [
    {
     "name": "stdout",
     "output_type": "stream",
     "text": [
      "(1, 'Sofie', 5.9)\n",
      "(2, 'Pippin', 3.2)\n",
      "(3, 'Billi', 18.2)\n",
      "(4, 'Neko', 12.1)\n",
      "(5, 'Koshka', 10.0)\n",
      "(6, 'Kisu', 10.0)\n"
     ]
    }
   ],
   "source": [
    "# Be careful with what's pointing to a Python value and what's pointing to the DB\n",
    "for r in rows:\n",
    "    print(r)"
   ]
  },
  {
   "cell_type": "code",
   "execution_count": 22,
   "id": "national-general",
   "metadata": {},
   "outputs": [],
   "source": [
    "# Multiple cursors can point to the same database, be careful!\n",
    "curse2 = db_conn.cursor()"
   ]
  },
  {
   "cell_type": "code",
   "execution_count": 23,
   "id": "bored-stretch",
   "metadata": {},
   "outputs": [
    {
     "name": "stdout",
     "output_type": "stream",
     "text": [
      "(1, 'Sofie', 5.9)\n",
      "(2, 'Pippin', 3.2)\n",
      "(3, 'Billi', 18.2)\n",
      "(4, 'Neko', 12.1)\n",
      "(5, 'Koshka', 10.0)\n",
      "(6, 'Kisu', 10.0)\n"
     ]
    }
   ],
   "source": [
    "for r in cursor.execute(\"SELECT * FROM pets\"):\n",
    "    print(r)"
   ]
  },
  {
   "cell_type": "code",
   "execution_count": 24,
   "id": "every-certification",
   "metadata": {},
   "outputs": [
    {
     "name": "stdout",
     "output_type": "stream",
     "text": [
      "(1, 'Sofie', 5.9)\n",
      "(2, 'Pippin', 3.2)\n",
      "(3, 'Billi', 18.2)\n",
      "(4, 'Neko', 12.1)\n",
      "(5, 'Koshka', 10.0)\n",
      "(6, 'Kisu', 10.0)\n"
     ]
    }
   ],
   "source": [
    "for r in curse2.execute(\"SELECT * FROM pets\"):\n",
    "    print(r)"
   ]
  },
  {
   "cell_type": "code",
   "execution_count": 25,
   "id": "corrected-consequence",
   "metadata": {},
   "outputs": [],
   "source": [
    "cursor.execute(\"DELETE FROM pets WHERE id == 6\")\n",
    "db_conn.commit()"
   ]
  },
  {
   "cell_type": "code",
   "execution_count": 26,
   "id": "broken-depression",
   "metadata": {},
   "outputs": [
    {
     "name": "stdout",
     "output_type": "stream",
     "text": [
      "(1, 'Sofie', 5.9)\n",
      "(2, 'Pippin', 3.2)\n",
      "(3, 'Billi', 18.2)\n",
      "(4, 'Neko', 12.1)\n",
      "(5, 'Koshka', 10.0)\n"
     ]
    }
   ],
   "source": [
    "for r in curse2.execute(\"SELECT * FROM pets\"):\n",
    "    print(r)"
   ]
  },
  {
   "cell_type": "code",
   "execution_count": 27,
   "id": "valued-bridges",
   "metadata": {},
   "outputs": [
    {
     "data": {
      "text/plain": [
       "<sqlite3.Cursor at 0x7f400c0ad960>"
      ]
     },
     "execution_count": 27,
     "metadata": {},
     "output_type": "execute_result"
    }
   ],
   "source": [
    "cursor.execute(\"INSERT INTO pets VALUES (7, 'Sasha', 3.5)\")"
   ]
  },
  {
   "cell_type": "code",
   "execution_count": 28,
   "id": "satisfied-satellite",
   "metadata": {},
   "outputs": [],
   "source": [
    "insert_fetch = cursor.fetchall()"
   ]
  },
  {
   "cell_type": "code",
   "execution_count": 29,
   "id": "labeled-chart",
   "metadata": {},
   "outputs": [
    {
     "data": {
      "text/plain": [
       "[]"
      ]
     },
     "execution_count": 29,
     "metadata": {},
     "output_type": "execute_result"
    }
   ],
   "source": [
    "insert_fetch"
   ]
  },
  {
   "cell_type": "code",
   "execution_count": 30,
   "id": "african-speaking",
   "metadata": {},
   "outputs": [
    {
     "name": "stdout",
     "output_type": "stream",
     "text": [
      "(1, 'Sofie', 5.9)\n",
      "(2, 'Pippin', 3.2)\n",
      "(3, 'Billi', 18.2)\n",
      "(4, 'Neko', 12.1)\n",
      "(5, 'Koshka', 10.0)\n",
      "(7, 'Sasha', 3.5)\n"
     ]
    }
   ],
   "source": [
    "for r in curse2.execute(\"SELECT * FROM pets\"):\n",
    "    print(r)"
   ]
  },
  {
   "cell_type": "code",
   "execution_count": null,
   "id": "active-washington",
   "metadata": {},
   "outputs": [],
   "source": []
  }
 ],
 "metadata": {
  "kernelspec": {
   "display_name": "Python 3",
   "language": "python",
   "name": "python3"
  },
  "language_info": {
   "codemirror_mode": {
    "name": "ipython",
    "version": 3
   },
   "file_extension": ".py",
   "mimetype": "text/x-python",
   "name": "python",
   "nbconvert_exporter": "python",
   "pygments_lexer": "ipython3",
   "version": "3.8.6"
  }
 },
 "nbformat": 4,
 "nbformat_minor": 5
}
